{
 "cells": [
  {
   "cell_type": "code",
   "execution_count": 28,
   "metadata": {},
   "outputs": [],
   "source": [
    "from faker import Faker\n",
    "from random import randint, choice\n",
    "from datetime import datetime\n",
    "\n",
    "rows = []\n",
    "fake = Faker()\n",
    "\n",
    "for i in range(1, 60+1):\n",
    "    rows.append((\n",
    "        i,\n",
    "        fake.name(),\n",
    "        datetime.fromtimestamp(randint(1072895400, 1104604200)),\n",
    "        choice([\"M\", \"F\"]),\n",
    "        randint(1, 100),)\n",
    "    )"
   ]
  },
  {
   "cell_type": "code",
   "execution_count": 29,
   "metadata": {},
   "outputs": [
    {
     "data": {
      "text/plain": [
       "[(1, 'Sheena Martin', datetime.datetime(2004, 10, 15, 10, 42, 30), 'M', 10),\n",
       " (2, 'April Christensen', datetime.datetime(2004, 8, 27, 12, 9, 27), 'F', 9),\n",
       " (3, 'Calvin Larson', datetime.datetime(2004, 4, 15, 10, 25, 29), 'M', 53),\n",
       " (4, 'Kristine West', datetime.datetime(2004, 12, 15, 8, 37, 37), 'F', 39),\n",
       " (5, 'Kenneth Jimenez', datetime.datetime(2004, 5, 9, 18, 28, 28), 'M', 69),\n",
       " (6, 'Luis Garcia MD', datetime.datetime(2004, 4, 21, 12, 40, 16), 'F', 3),\n",
       " (7, 'Anthony Jarvis', datetime.datetime(2004, 11, 8, 5, 40, 25), 'F', 8),\n",
       " (8, 'Lauren Nguyen', datetime.datetime(2004, 7, 22, 23, 32), 'F', 74),\n",
       " (9, 'Tracey Rodriguez', datetime.datetime(2004, 12, 7, 9, 27, 27), 'M', 24),\n",
       " (10, 'Patricia Ashley', datetime.datetime(2004, 7, 9, 10, 51, 51), 'M', 88),\n",
       " (11, 'Brenda Ellison', datetime.datetime(2004, 11, 5, 5, 45, 56), 'M', 55),\n",
       " (12, 'George Schmidt', datetime.datetime(2004, 10, 28, 15, 23, 32), 'M', 30),\n",
       " (13, 'Cheryl Jones', datetime.datetime(2004, 5, 20, 8, 27, 38), 'F', 80),\n",
       " (14, 'Joseph Smith', datetime.datetime(2004, 8, 1, 5, 53, 11), 'M', 80),\n",
       " (15, 'Brent Schwartz', datetime.datetime(2004, 3, 17, 2, 4, 48), 'M', 73),\n",
       " (16, 'Robert Lin', datetime.datetime(2004, 3, 17, 12, 17, 5), 'F', 13),\n",
       " (17, 'Courtney Vincent', datetime.datetime(2004, 3, 13, 17, 52, 23), 'M', 62),\n",
       " (18, 'Sarah Zuniga', datetime.datetime(2004, 10, 2, 1, 49, 46), 'F', 17),\n",
       " (19, 'Crystal Simmons', datetime.datetime(2004, 5, 1, 5, 58, 5), 'M', 8),\n",
       " (20, 'Christian Hahn', datetime.datetime(2004, 6, 22, 7, 19, 15), 'F', 19),\n",
       " (21, 'Jack Pitts', datetime.datetime(2004, 3, 20, 20, 44, 58), 'M', 37),\n",
       " (22, 'Guy Andrews', datetime.datetime(2004, 4, 10, 4, 48, 34), 'M', 79),\n",
       " (23, 'Renee Wilson', datetime.datetime(2004, 7, 28, 9, 50, 6), 'M', 54),\n",
       " (24, 'Amber Huang', datetime.datetime(2004, 4, 11, 17, 10, 25), 'F', 62),\n",
       " (25, 'Stephen Hickman', datetime.datetime(2004, 4, 29, 17, 46, 47), 'F', 16),\n",
       " (26, 'Sharon Forbes', datetime.datetime(2004, 2, 15, 22, 3, 18), 'F', 16),\n",
       " (27,\n",
       "  'Christopher Jackson',\n",
       "  datetime.datetime(2004, 9, 3, 18, 25, 24),\n",
       "  'M',\n",
       "  90),\n",
       " (28, 'Sara Williams', datetime.datetime(2004, 4, 26, 6, 10, 11), 'M', 54),\n",
       " (29, 'Rickey Guerra', datetime.datetime(2004, 11, 12, 4, 8, 7), 'F', 75),\n",
       " (30, 'Tonya Edwards', datetime.datetime(2004, 9, 7, 16, 23, 3), 'M', 23),\n",
       " (31, 'Alexis Drake', datetime.datetime(2004, 4, 14, 18, 27, 27), 'F', 85),\n",
       " (32, 'Daniel Johnson', datetime.datetime(2004, 10, 18, 0, 37, 41), 'F', 60),\n",
       " (33, 'Cassandra Reese', datetime.datetime(2004, 10, 15, 10, 7, 23), 'F', 44),\n",
       " (34, 'Terri Yoder', datetime.datetime(2004, 8, 14, 7, 20, 14), 'F', 57),\n",
       " (35, 'Amanda Harris', datetime.datetime(2004, 8, 15, 1, 57, 7), 'F', 59),\n",
       " (36, 'Jeffrey Sellers', datetime.datetime(2004, 3, 28, 11, 44, 32), 'M', 66),\n",
       " (37, 'Sarah Hoffman', datetime.datetime(2004, 10, 25, 8, 56, 26), 'M', 31),\n",
       " (38, 'James Smith', datetime.datetime(2004, 6, 20, 19, 29), 'F', 26),\n",
       " (39, 'Terri Wagner', datetime.datetime(2004, 10, 12, 18, 41, 54), 'F', 18),\n",
       " (40, 'Selena Lynch', datetime.datetime(2004, 2, 27, 4, 46, 42), 'M', 90),\n",
       " (41, 'Dr. Jeffery Ortega', datetime.datetime(2004, 1, 28, 22, 29), 'M', 38),\n",
       " (42, 'Amanda Hernandez', datetime.datetime(2004, 5, 14, 17, 36, 29), 'F', 51),\n",
       " (43, 'John White', datetime.datetime(2004, 7, 25, 6, 57, 53), 'F', 83),\n",
       " (44, 'Sara Brown', datetime.datetime(2004, 7, 29, 21, 25, 17), 'F', 90),\n",
       " (45, 'Gregg Sanchez', datetime.datetime(2004, 12, 4, 12, 6, 46), 'F', 20),\n",
       " (46, 'Dr. John Hill', datetime.datetime(2004, 9, 5, 23, 46, 55), 'M', 57),\n",
       " (47, 'Tara Bishop', datetime.datetime(2004, 1, 27, 3, 24, 32), 'M', 60),\n",
       " (48, 'Janet Nelson', datetime.datetime(2004, 3, 6, 5, 18, 45), 'F', 16),\n",
       " (49, 'Jonathan Reid', datetime.datetime(2004, 4, 7, 12, 59, 6), 'F', 37),\n",
       " (50, 'Carolyn Love', datetime.datetime(2004, 12, 22, 15, 19, 59), 'F', 67),\n",
       " (51, 'Tammy Smith', datetime.datetime(2004, 12, 13, 5, 41, 31), 'M', 7),\n",
       " (52, 'Lisa Long', datetime.datetime(2004, 10, 19, 0, 45, 13), 'M', 67),\n",
       " (53, 'Crystal Garcia', datetime.datetime(2004, 5, 3, 13, 33, 58), 'M', 10),\n",
       " (54, 'Philip Mitchell', datetime.datetime(2004, 7, 7, 2, 52, 40), 'M', 81),\n",
       " (55, 'Clayton Key', datetime.datetime(2004, 5, 14, 14, 45, 46), 'M', 50),\n",
       " (56, 'Brian Carpenter', datetime.datetime(2004, 12, 25, 23, 16, 13), 'F', 96),\n",
       " (57, 'Jessica Mitchell', datetime.datetime(2004, 8, 24, 6, 53, 37), 'M', 5),\n",
       " (58, 'Travis Lara', datetime.datetime(2004, 4, 29, 18, 4, 59), 'F', 29),\n",
       " (59, 'Ashley Cohen', datetime.datetime(2004, 4, 18, 11, 32, 35), 'M', 40),\n",
       " (60, 'Jonathan Smith', datetime.datetime(2004, 3, 1, 7, 31, 26), 'F', 66)]"
      ]
     },
     "execution_count": 29,
     "metadata": {},
     "output_type": "execute_result"
    }
   ],
   "source": [
    "rows"
   ]
  },
  {
   "cell_type": "code",
   "execution_count": 30,
   "metadata": {},
   "outputs": [],
   "source": [
    "import pandas as pd\n",
    "import matplotlib.pyplot as plt\n",
    "import numpy as np"
   ]
  },
  {
   "cell_type": "code",
   "execution_count": 31,
   "metadata": {},
   "outputs": [],
   "source": [
    "df = pd.DataFrame(rows, columns=[\"Roll Number\", \"Name\", \"DoB\", \"Gender\", \"Score\"])"
   ]
  },
  {
   "cell_type": "code",
   "execution_count": 32,
   "metadata": {},
   "outputs": [
    {
     "data": {
      "text/html": [
       "<div>\n",
       "<style scoped>\n",
       "    .dataframe tbody tr th:only-of-type {\n",
       "        vertical-align: middle;\n",
       "    }\n",
       "\n",
       "    .dataframe tbody tr th {\n",
       "        vertical-align: top;\n",
       "    }\n",
       "\n",
       "    .dataframe thead th {\n",
       "        text-align: right;\n",
       "    }\n",
       "</style>\n",
       "<table border=\"1\" class=\"dataframe\">\n",
       "  <thead>\n",
       "    <tr style=\"text-align: right;\">\n",
       "      <th></th>\n",
       "      <th>Roll Number</th>\n",
       "      <th>Name</th>\n",
       "      <th>DoB</th>\n",
       "      <th>Gender</th>\n",
       "      <th>Score</th>\n",
       "    </tr>\n",
       "  </thead>\n",
       "  <tbody>\n",
       "    <tr>\n",
       "      <th>0</th>\n",
       "      <td>1</td>\n",
       "      <td>Sheena Martin</td>\n",
       "      <td>2004-10-15 10:42:30</td>\n",
       "      <td>M</td>\n",
       "      <td>10</td>\n",
       "    </tr>\n",
       "    <tr>\n",
       "      <th>1</th>\n",
       "      <td>2</td>\n",
       "      <td>April Christensen</td>\n",
       "      <td>2004-08-27 12:09:27</td>\n",
       "      <td>F</td>\n",
       "      <td>9</td>\n",
       "    </tr>\n",
       "    <tr>\n",
       "      <th>2</th>\n",
       "      <td>3</td>\n",
       "      <td>Calvin Larson</td>\n",
       "      <td>2004-04-15 10:25:29</td>\n",
       "      <td>M</td>\n",
       "      <td>53</td>\n",
       "    </tr>\n",
       "    <tr>\n",
       "      <th>3</th>\n",
       "      <td>4</td>\n",
       "      <td>Kristine West</td>\n",
       "      <td>2004-12-15 08:37:37</td>\n",
       "      <td>F</td>\n",
       "      <td>39</td>\n",
       "    </tr>\n",
       "    <tr>\n",
       "      <th>4</th>\n",
       "      <td>5</td>\n",
       "      <td>Kenneth Jimenez</td>\n",
       "      <td>2004-05-09 18:28:28</td>\n",
       "      <td>M</td>\n",
       "      <td>69</td>\n",
       "    </tr>\n",
       "  </tbody>\n",
       "</table>\n",
       "</div>"
      ],
      "text/plain": [
       "   Roll Number               Name                 DoB Gender  Score\n",
       "0            1      Sheena Martin 2004-10-15 10:42:30      M     10\n",
       "1            2  April Christensen 2004-08-27 12:09:27      F      9\n",
       "2            3      Calvin Larson 2004-04-15 10:25:29      M     53\n",
       "3            4      Kristine West 2004-12-15 08:37:37      F     39\n",
       "4            5    Kenneth Jimenez 2004-05-09 18:28:28      M     69"
      ]
     },
     "execution_count": 32,
     "metadata": {},
     "output_type": "execute_result"
    }
   ],
   "source": [
    "df.head()"
   ]
  },
  {
   "cell_type": "code",
   "execution_count": 33,
   "metadata": {},
   "outputs": [
    {
     "data": {
      "text/plain": [
       "(60, 5)"
      ]
     },
     "execution_count": 33,
     "metadata": {},
     "output_type": "execute_result"
    }
   ],
   "source": [
    "df.shape"
   ]
  },
  {
   "cell_type": "code",
   "execution_count": 34,
   "metadata": {},
   "outputs": [
    {
     "data": {
      "text/html": [
       "<div>\n",
       "<style scoped>\n",
       "    .dataframe tbody tr th:only-of-type {\n",
       "        vertical-align: middle;\n",
       "    }\n",
       "\n",
       "    .dataframe tbody tr th {\n",
       "        vertical-align: top;\n",
       "    }\n",
       "\n",
       "    .dataframe thead th {\n",
       "        text-align: right;\n",
       "    }\n",
       "</style>\n",
       "<table border=\"1\" class=\"dataframe\">\n",
       "  <thead>\n",
       "    <tr style=\"text-align: right;\">\n",
       "      <th></th>\n",
       "      <th>Roll Number</th>\n",
       "      <th>DoB</th>\n",
       "      <th>Score</th>\n",
       "    </tr>\n",
       "  </thead>\n",
       "  <tbody>\n",
       "    <tr>\n",
       "      <th>count</th>\n",
       "      <td>60.000000</td>\n",
       "      <td>60</td>\n",
       "      <td>60.000000</td>\n",
       "    </tr>\n",
       "    <tr>\n",
       "      <th>mean</th>\n",
       "      <td>30.500000</td>\n",
       "      <td>2004-07-07 23:55:29.133333120</td>\n",
       "      <td>47.100000</td>\n",
       "    </tr>\n",
       "    <tr>\n",
       "      <th>min</th>\n",
       "      <td>1.000000</td>\n",
       "      <td>2004-01-27 03:24:32</td>\n",
       "      <td>3.000000</td>\n",
       "    </tr>\n",
       "    <tr>\n",
       "      <th>25%</th>\n",
       "      <td>15.750000</td>\n",
       "      <td>2004-04-15 06:25:58.500000</td>\n",
       "      <td>19.750000</td>\n",
       "    </tr>\n",
       "    <tr>\n",
       "      <th>50%</th>\n",
       "      <td>30.500000</td>\n",
       "      <td>2004-07-08 06:52:15.500000</td>\n",
       "      <td>52.000000</td>\n",
       "    </tr>\n",
       "    <tr>\n",
       "      <th>75%</th>\n",
       "      <td>45.250000</td>\n",
       "      <td>2004-10-13 10:33:16.250000</td>\n",
       "      <td>67.500000</td>\n",
       "    </tr>\n",
       "    <tr>\n",
       "      <th>max</th>\n",
       "      <td>60.000000</td>\n",
       "      <td>2004-12-25 23:16:13</td>\n",
       "      <td>96.000000</td>\n",
       "    </tr>\n",
       "    <tr>\n",
       "      <th>std</th>\n",
       "      <td>17.464249</td>\n",
       "      <td>NaN</td>\n",
       "      <td>27.590038</td>\n",
       "    </tr>\n",
       "  </tbody>\n",
       "</table>\n",
       "</div>"
      ],
      "text/plain": [
       "       Roll Number                            DoB      Score\n",
       "count    60.000000                             60  60.000000\n",
       "mean     30.500000  2004-07-07 23:55:29.133333120  47.100000\n",
       "min       1.000000            2004-01-27 03:24:32   3.000000\n",
       "25%      15.750000     2004-04-15 06:25:58.500000  19.750000\n",
       "50%      30.500000     2004-07-08 06:52:15.500000  52.000000\n",
       "75%      45.250000     2004-10-13 10:33:16.250000  67.500000\n",
       "max      60.000000            2004-12-25 23:16:13  96.000000\n",
       "std      17.464249                            NaN  27.590038"
      ]
     },
     "execution_count": 34,
     "metadata": {},
     "output_type": "execute_result"
    }
   ],
   "source": [
    "df.describe()"
   ]
  },
  {
   "cell_type": "code",
   "execution_count": 35,
   "metadata": {},
   "outputs": [
    {
     "data": {
      "text/html": [
       "<div>\n",
       "<style scoped>\n",
       "    .dataframe tbody tr th:only-of-type {\n",
       "        vertical-align: middle;\n",
       "    }\n",
       "\n",
       "    .dataframe tbody tr th {\n",
       "        vertical-align: top;\n",
       "    }\n",
       "\n",
       "    .dataframe thead th {\n",
       "        text-align: right;\n",
       "    }\n",
       "</style>\n",
       "<table border=\"1\" class=\"dataframe\">\n",
       "  <thead>\n",
       "    <tr style=\"text-align: right;\">\n",
       "      <th></th>\n",
       "      <th>Roll Number</th>\n",
       "      <th>Name</th>\n",
       "      <th>DoB</th>\n",
       "      <th>Gender</th>\n",
       "      <th>Score</th>\n",
       "    </tr>\n",
       "  </thead>\n",
       "  <tbody>\n",
       "    <tr>\n",
       "      <th>55</th>\n",
       "      <td>56</td>\n",
       "      <td>Brian Carpenter</td>\n",
       "      <td>2004-12-25 23:16:13</td>\n",
       "      <td>F</td>\n",
       "      <td>96</td>\n",
       "    </tr>\n",
       "    <tr>\n",
       "      <th>56</th>\n",
       "      <td>57</td>\n",
       "      <td>Jessica Mitchell</td>\n",
       "      <td>2004-08-24 06:53:37</td>\n",
       "      <td>M</td>\n",
       "      <td>5</td>\n",
       "    </tr>\n",
       "    <tr>\n",
       "      <th>57</th>\n",
       "      <td>58</td>\n",
       "      <td>Travis Lara</td>\n",
       "      <td>2004-04-29 18:04:59</td>\n",
       "      <td>F</td>\n",
       "      <td>29</td>\n",
       "    </tr>\n",
       "    <tr>\n",
       "      <th>58</th>\n",
       "      <td>59</td>\n",
       "      <td>Ashley Cohen</td>\n",
       "      <td>2004-04-18 11:32:35</td>\n",
       "      <td>M</td>\n",
       "      <td>40</td>\n",
       "    </tr>\n",
       "    <tr>\n",
       "      <th>59</th>\n",
       "      <td>60</td>\n",
       "      <td>Jonathan Smith</td>\n",
       "      <td>2004-03-01 07:31:26</td>\n",
       "      <td>F</td>\n",
       "      <td>66</td>\n",
       "    </tr>\n",
       "  </tbody>\n",
       "</table>\n",
       "</div>"
      ],
      "text/plain": [
       "    Roll Number              Name                 DoB Gender  Score\n",
       "55           56   Brian Carpenter 2004-12-25 23:16:13      F     96\n",
       "56           57  Jessica Mitchell 2004-08-24 06:53:37      M      5\n",
       "57           58       Travis Lara 2004-04-29 18:04:59      F     29\n",
       "58           59      Ashley Cohen 2004-04-18 11:32:35      M     40\n",
       "59           60    Jonathan Smith 2004-03-01 07:31:26      F     66"
      ]
     },
     "execution_count": 35,
     "metadata": {},
     "output_type": "execute_result"
    }
   ],
   "source": [
    "df.tail()"
   ]
  },
  {
   "cell_type": "code",
   "execution_count": 36,
   "metadata": {},
   "outputs": [
    {
     "name": "stdout",
     "output_type": "stream",
     "text": [
      "<class 'pandas.core.frame.DataFrame'>\n",
      "RangeIndex: 60 entries, 0 to 59\n",
      "Data columns (total 5 columns):\n",
      " #   Column       Non-Null Count  Dtype         \n",
      "---  ------       --------------  -----         \n",
      " 0   Roll Number  60 non-null     int64         \n",
      " 1   Name         60 non-null     object        \n",
      " 2   DoB          60 non-null     datetime64[ns]\n",
      " 3   Gender       60 non-null     object        \n",
      " 4   Score        60 non-null     int64         \n",
      "dtypes: datetime64[ns](1), int64(2), object(2)\n",
      "memory usage: 2.5+ KB\n"
     ]
    }
   ],
   "source": [
    "df.info()"
   ]
  },
  {
   "cell_type": "code",
   "execution_count": 37,
   "metadata": {},
   "outputs": [
    {
     "data": {
      "text/plain": [
       "Index(['Roll Number', 'Name', 'DoB', 'Gender', 'Score'], dtype='object')"
      ]
     },
     "execution_count": 37,
     "metadata": {},
     "output_type": "execute_result"
    }
   ],
   "source": [
    "df.columns"
   ]
  },
  {
   "cell_type": "code",
   "execution_count": 38,
   "metadata": {},
   "outputs": [
    {
     "data": {
      "text/plain": [
       "Roll Number    60\n",
       "Name           60\n",
       "DoB            60\n",
       "Gender          2\n",
       "Score          46\n",
       "dtype: int64"
      ]
     },
     "execution_count": 38,
     "metadata": {},
     "output_type": "execute_result"
    }
   ],
   "source": [
    "df.nunique()"
   ]
  },
  {
   "cell_type": "code",
   "execution_count": 39,
   "metadata": {},
   "outputs": [
    {
     "data": {
      "text/plain": [
       "array([10,  9, 53, 39, 69,  3,  8, 74, 24, 88, 55, 30, 80, 73, 13, 62, 17,\n",
       "       19, 37, 79, 54, 16, 90, 75, 23, 85, 60, 44, 57, 59, 66, 31, 26, 18,\n",
       "       38, 51, 83, 20, 67,  7, 81, 50, 96,  5, 29, 40], dtype=int64)"
      ]
     },
     "execution_count": 39,
     "metadata": {},
     "output_type": "execute_result"
    }
   ],
   "source": [
    "df[\"Score\"].unique()"
   ]
  },
  {
   "cell_type": "code",
   "execution_count": 40,
   "metadata": {},
   "outputs": [
    {
     "data": {
      "text/plain": [
       "dtype('int64')"
      ]
     },
     "execution_count": 40,
     "metadata": {},
     "output_type": "execute_result"
    }
   ],
   "source": [
    "df[\"Score\"].dtype"
   ]
  },
  {
   "cell_type": "code",
   "execution_count": 41,
   "metadata": {},
   "outputs": [
    {
     "data": {
      "text/plain": [
       "Roll Number    0\n",
       "Name           0\n",
       "DoB            0\n",
       "Gender         0\n",
       "Score          0\n",
       "dtype: int64"
      ]
     },
     "execution_count": 41,
     "metadata": {},
     "output_type": "execute_result"
    }
   ],
   "source": [
    "df.isnull().sum()"
   ]
  },
  {
   "cell_type": "code",
   "execution_count": 42,
   "metadata": {},
   "outputs": [],
   "source": [
    "df = df.drop_duplicates()"
   ]
  },
  {
   "cell_type": "code",
   "execution_count": 43,
   "metadata": {},
   "outputs": [
    {
     "data": {
      "text/plain": [
       "(array([8., 8., 5., 6., 1., 8., 9., 4., 6., 5.]),\n",
       " array([ 3. , 12.3, 21.6, 30.9, 40.2, 49.5, 58.8, 68.1, 77.4, 86.7, 96. ]),\n",
       " <BarContainer object of 10 artists>)"
      ]
     },
     "execution_count": 43,
     "metadata": {},
     "output_type": "execute_result"
    },
    {
     "data": {
      "image/png": "[encoded data removed]",
      "text/plain": [
       "<Figure size 640x480 with 1 Axes>"
      ]
     },
     "metadata": {},
     "output_type": "display_data"
    }
   ],
   "source": [
    "plt.hist(df[\"Score\"])"
   ]
  }
 ],
 "metadata": {
  "kernelspec": {
   "display_name": "Python 3",
   "language": "python",
   "name": "python3"
  },
  "language_info": {
   "codemirror_mode": {
    "name": "ipython",
    "version": 3
   },
   "file_extension": ".py",
   "mimetype": "text/x-python",
   "name": "python",
   "nbconvert_exporter": "python",
   "pygments_lexer": "ipython3",
   "version": "3.11.3"
  }
 },
 "nbformat": 4,
 "nbformat_minor": 2
}
